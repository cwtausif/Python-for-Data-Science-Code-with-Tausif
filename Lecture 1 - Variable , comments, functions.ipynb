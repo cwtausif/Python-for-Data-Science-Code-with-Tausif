{
 "cells": [
  {
   "cell_type": "markdown",
   "id": "049a4611",
   "metadata": {},
   "source": [
    "# Variables"
   ]
  },
  {
   "cell_type": "markdown",
   "id": "58b7bd2a",
   "metadata": {},
   "source": [
    "# Legal Variable Names"
   ]
  },
  {
   "cell_type": "code",
   "execution_count": 1,
   "id": "b4e4672c",
   "metadata": {},
   "outputs": [],
   "source": [
    "myvar = \"John\""
   ]
  },
  {
   "cell_type": "code",
   "execution_count": 3,
   "id": "37fd996f",
   "metadata": {},
   "outputs": [],
   "source": [
    "my_var = \"Banana\""
   ]
  },
  {
   "cell_type": "code",
   "execution_count": 5,
   "id": "9687f66d",
   "metadata": {},
   "outputs": [],
   "source": [
    "_myvar = \"Apple\""
   ]
  },
  {
   "cell_type": "code",
   "execution_count": 8,
   "id": "87dbd55b",
   "metadata": {},
   "outputs": [],
   "source": [
    "myVar = \"Pakistan\""
   ]
  },
  {
   "cell_type": "code",
   "execution_count": 9,
   "id": "d7d14d22",
   "metadata": {},
   "outputs": [],
   "source": [
    "MYVAR = \"Cricket\""
   ]
  },
  {
   "cell_type": "code",
   "execution_count": 10,
   "id": "ac461302",
   "metadata": {},
   "outputs": [],
   "source": [
    "myvar2 = \"Good\" "
   ]
  },
  {
   "cell_type": "markdown",
   "id": "56e9c420",
   "metadata": {},
   "source": [
    "# Illegal Variable Names"
   ]
  },
  {
   "cell_type": "code",
   "execution_count": 2,
   "id": "694d1e8c",
   "metadata": {},
   "outputs": [
    {
     "ename": "SyntaxError",
     "evalue": "invalid syntax (3172671610.py, line 1)",
     "output_type": "error",
     "traceback": [
      "\u001b[0;36m  Input \u001b[0;32mIn [2]\u001b[0;36m\u001b[0m\n\u001b[0;31m    2myvar = \"John\"\u001b[0m\n\u001b[0m     ^\u001b[0m\n\u001b[0;31mSyntaxError\u001b[0m\u001b[0;31m:\u001b[0m invalid syntax\n"
     ]
    }
   ],
   "source": [
    "2myvar = \"John\""
   ]
  },
  {
   "cell_type": "code",
   "execution_count": 4,
   "id": "620eeb78",
   "metadata": {
    "scrolled": true
   },
   "outputs": [
    {
     "ename": "SyntaxError",
     "evalue": "cannot assign to operator (671572959.py, line 1)",
     "output_type": "error",
     "traceback": [
      "\u001b[0;36m  Input \u001b[0;32mIn [4]\u001b[0;36m\u001b[0m\n\u001b[0;31m    my-var = 123\u001b[0m\n\u001b[0m    ^\u001b[0m\n\u001b[0;31mSyntaxError\u001b[0m\u001b[0;31m:\u001b[0m cannot assign to operator\n"
     ]
    }
   ],
   "source": [
    "my-var = 123"
   ]
  },
  {
   "cell_type": "code",
   "execution_count": 7,
   "id": "da240d13",
   "metadata": {
    "scrolled": false
   },
   "outputs": [
    {
     "ename": "SyntaxError",
     "evalue": "invalid syntax (410672947.py, line 1)",
     "output_type": "error",
     "traceback": [
      "\u001b[0;36m  Input \u001b[0;32mIn [7]\u001b[0;36m\u001b[0m\n\u001b[0;31m    my var = \"a\"\u001b[0m\n\u001b[0m       ^\u001b[0m\n\u001b[0;31mSyntaxError\u001b[0m\u001b[0;31m:\u001b[0m invalid syntax\n"
     ]
    }
   ],
   "source": [
    "my var = \"a\""
   ]
  },
  {
   "cell_type": "markdown",
   "id": "117ed489",
   "metadata": {},
   "source": [
    "# Multivariables with One Value"
   ]
  },
  {
   "cell_type": "code",
   "execution_count": 11,
   "id": "61de7f0f",
   "metadata": {},
   "outputs": [],
   "source": [
    "x = y = z = \"Apple\""
   ]
  },
  {
   "cell_type": "code",
   "execution_count": 12,
   "id": "039faac7",
   "metadata": {},
   "outputs": [
    {
     "data": {
      "text/plain": [
       "'Apple'"
      ]
     },
     "execution_count": 12,
     "metadata": {},
     "output_type": "execute_result"
    }
   ],
   "source": [
    "x"
   ]
  },
  {
   "cell_type": "code",
   "execution_count": 13,
   "id": "e11dd3fa",
   "metadata": {},
   "outputs": [
    {
     "data": {
      "text/plain": [
       "'Apple'"
      ]
     },
     "execution_count": 13,
     "metadata": {},
     "output_type": "execute_result"
    }
   ],
   "source": [
    "y"
   ]
  },
  {
   "cell_type": "code",
   "execution_count": 14,
   "id": "d03bd055",
   "metadata": {},
   "outputs": [
    {
     "data": {
      "text/plain": [
       "'Apple'"
      ]
     },
     "execution_count": 14,
     "metadata": {},
     "output_type": "execute_result"
    }
   ],
   "source": [
    "z"
   ]
  },
  {
   "cell_type": "markdown",
   "id": "1e12956f",
   "metadata": {},
   "source": [
    "# Multivariables with multiple values"
   ]
  },
  {
   "cell_type": "code",
   "execution_count": 15,
   "id": "43f677b8",
   "metadata": {},
   "outputs": [],
   "source": [
    "x,y,z = \"Apple\",\"Banana\",\"Orange\""
   ]
  },
  {
   "cell_type": "code",
   "execution_count": 16,
   "id": "1b40700c",
   "metadata": {},
   "outputs": [
    {
     "data": {
      "text/plain": [
       "'Apple'"
      ]
     },
     "execution_count": 16,
     "metadata": {},
     "output_type": "execute_result"
    }
   ],
   "source": [
    "x"
   ]
  },
  {
   "cell_type": "code",
   "execution_count": 17,
   "id": "0e5b55dc",
   "metadata": {},
   "outputs": [
    {
     "data": {
      "text/plain": [
       "'Banana'"
      ]
     },
     "execution_count": 17,
     "metadata": {},
     "output_type": "execute_result"
    }
   ],
   "source": [
    "y"
   ]
  },
  {
   "cell_type": "code",
   "execution_count": 18,
   "id": "40a505c8",
   "metadata": {},
   "outputs": [
    {
     "data": {
      "text/plain": [
       "'Orange'"
      ]
     },
     "execution_count": 18,
     "metadata": {},
     "output_type": "execute_result"
    }
   ],
   "source": [
    "z"
   ]
  },
  {
   "cell_type": "markdown",
   "id": "832c2351",
   "metadata": {},
   "source": [
    "# comments"
   ]
  },
  {
   "cell_type": "code",
   "execution_count": 19,
   "id": "920cf722",
   "metadata": {},
   "outputs": [
    {
     "data": {
      "text/plain": [
       "'King'"
      ]
     },
     "execution_count": 19,
     "metadata": {},
     "output_type": "execute_result"
    }
   ],
   "source": [
    "# This is a comment\n",
    "myvar = \"King\"\n",
    "myvar"
   ]
  },
  {
   "cell_type": "code",
   "execution_count": 26,
   "id": "4b5ad0cd",
   "metadata": {},
   "outputs": [],
   "source": [
    "# step 1\n",
    "# step 2\n",
    "# step 3"
   ]
  },
  {
   "cell_type": "code",
   "execution_count": 21,
   "id": "62f8aa44",
   "metadata": {},
   "outputs": [],
   "source": [
    "'''\n",
    "this is a comment\n",
    "which is multiline\n",
    "'''\n",
    "v = 1"
   ]
  },
  {
   "cell_type": "markdown",
   "id": "465a58e6",
   "metadata": {},
   "source": [
    "# Function"
   ]
  },
  {
   "cell_type": "code",
   "execution_count": 24,
   "id": "eecbe4d7",
   "metadata": {},
   "outputs": [],
   "source": [
    "def sum():\n",
    "    a = 1+4\n",
    "    print(a)"
   ]
  },
  {
   "cell_type": "code",
   "execution_count": 25,
   "id": "603ce7af",
   "metadata": {},
   "outputs": [
    {
     "name": "stdout",
     "output_type": "stream",
     "text": [
      "5\n"
     ]
    }
   ],
   "source": [
    "sum()"
   ]
  }
 ],
 "metadata": {
  "kernelspec": {
   "display_name": "Python 3 (ipykernel)",
   "language": "python",
   "name": "python3"
  },
  "language_info": {
   "codemirror_mode": {
    "name": "ipython",
    "version": 3
   },
   "file_extension": ".py",
   "mimetype": "text/x-python",
   "name": "python",
   "nbconvert_exporter": "python",
   "pygments_lexer": "ipython3",
   "version": "3.9.12"
  }
 },
 "nbformat": 4,
 "nbformat_minor": 5
}
