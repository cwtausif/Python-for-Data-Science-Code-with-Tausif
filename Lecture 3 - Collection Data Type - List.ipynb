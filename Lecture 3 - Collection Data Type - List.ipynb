{
 "cells": [
  {
   "cell_type": "markdown",
   "id": "4cf9d028",
   "metadata": {},
   "source": [
    "# Four collection Data Types"
   ]
  },
  {
   "cell_type": "markdown",
   "id": "e012cd3d",
   "metadata": {},
   "source": [
    "    1. Lists 2. Tuple 3. Set 4. Dictionary"
   ]
  },
  {
   "cell_type": "markdown",
   "id": "72159ac7",
   "metadata": {},
   "source": [
    "# Lists"
   ]
  },
  {
   "cell_type": "markdown",
   "id": "603264f6",
   "metadata": {},
   "source": [
    "### Lists Allow duplicate members and also changeable"
   ]
  },
  {
   "cell_type": "code",
   "execution_count": 1,
   "id": "3319dc52",
   "metadata": {},
   "outputs": [
    {
     "data": {
      "text/plain": [
       "['Pakistan', 'USA', 'UK', 'India', 'BAN']"
      ]
     },
     "execution_count": 1,
     "metadata": {},
     "output_type": "execute_result"
    }
   ],
   "source": [
    "mylist = [\"Pakistan\",\"USA\",\"UK\",\"India\",\"BAN\"]\n",
    "mylist"
   ]
  },
  {
   "cell_type": "markdown",
   "id": "7d325c75",
   "metadata": {},
   "source": [
    "# Index value Print"
   ]
  },
  {
   "cell_type": "code",
   "execution_count": 2,
   "id": "28c65b7d",
   "metadata": {},
   "outputs": [
    {
     "name": "stdout",
     "output_type": "stream",
     "text": [
      "USA\n"
     ]
    }
   ],
   "source": [
    "print(mylist[1])"
   ]
  },
  {
   "cell_type": "code",
   "execution_count": 3,
   "id": "a4c6d51a",
   "metadata": {},
   "outputs": [
    {
     "name": "stdout",
     "output_type": "stream",
     "text": [
      "Pakistan\n"
     ]
    }
   ],
   "source": [
    "print(mylist[0])"
   ]
  },
  {
   "cell_type": "code",
   "execution_count": 4,
   "id": "6bcfcb9b",
   "metadata": {},
   "outputs": [
    {
     "name": "stdout",
     "output_type": "stream",
     "text": [
      "BAN\n"
     ]
    }
   ],
   "source": [
    "print(mylist[-1])"
   ]
  },
  {
   "cell_type": "code",
   "execution_count": 5,
   "id": "6d01e198",
   "metadata": {},
   "outputs": [
    {
     "name": "stdout",
     "output_type": "stream",
     "text": [
      "India\n"
     ]
    }
   ],
   "source": [
    "print(mylist[-2])"
   ]
  },
  {
   "cell_type": "markdown",
   "id": "4c93db4b",
   "metadata": {},
   "source": [
    "### Task 1: Print USA by using Negative Index"
   ]
  },
  {
   "cell_type": "markdown",
   "id": "29bbc41e",
   "metadata": {},
   "source": [
    "# Range"
   ]
  },
  {
   "cell_type": "code",
   "execution_count": 6,
   "id": "54d70970",
   "metadata": {},
   "outputs": [
    {
     "name": "stdout",
     "output_type": "stream",
     "text": [
      "['USA', 'UK', 'India']\n"
     ]
    }
   ],
   "source": [
    "print(mylist[1:4])"
   ]
  },
  {
   "cell_type": "code",
   "execution_count": 8,
   "id": "cc32608f",
   "metadata": {},
   "outputs": [
    {
     "name": "stdout",
     "output_type": "stream",
     "text": [
      "['Pakistan', 'USA']\n"
     ]
    }
   ],
   "source": [
    "print(mylist[0:2])"
   ]
  },
  {
   "cell_type": "code",
   "execution_count": 9,
   "id": "edb21e26",
   "metadata": {},
   "outputs": [
    {
     "name": "stdout",
     "output_type": "stream",
     "text": [
      "['BAN']\n"
     ]
    }
   ],
   "source": [
    "print(mylist[4:5])"
   ]
  },
  {
   "cell_type": "markdown",
   "id": "cef71ac6",
   "metadata": {},
   "source": [
    "# Task 2: Pring \"India\",\"BAN\" by using Range"
   ]
  },
  {
   "cell_type": "code",
   "execution_count": 12,
   "id": "d8118241",
   "metadata": {},
   "outputs": [
    {
     "name": "stdout",
     "output_type": "stream",
     "text": [
      "['UK', 'India']\n"
     ]
    }
   ],
   "source": [
    "print(mylist[-3:-1])"
   ]
  },
  {
   "cell_type": "code",
   "execution_count": 16,
   "id": "c7664f18",
   "metadata": {},
   "outputs": [
    {
     "name": "stdout",
     "output_type": "stream",
     "text": [
      "['Pakistan', 'USA', 'UK', 'India', 'BAN']\n"
     ]
    }
   ],
   "source": [
    "print(mylist[:5])"
   ]
  },
  {
   "cell_type": "code",
   "execution_count": 17,
   "id": "e313f11b",
   "metadata": {},
   "outputs": [
    {
     "name": "stdout",
     "output_type": "stream",
     "text": [
      "['Pakistan', 'USA', 'UK']\n"
     ]
    }
   ],
   "source": [
    "print(mylist[:3])"
   ]
  },
  {
   "cell_type": "code",
   "execution_count": 18,
   "id": "2cef840c",
   "metadata": {},
   "outputs": [
    {
     "name": "stdout",
     "output_type": "stream",
     "text": [
      "['UK', 'India', 'BAN']\n"
     ]
    }
   ],
   "source": [
    "print(mylist[2:])"
   ]
  },
  {
   "cell_type": "code",
   "execution_count": 19,
   "id": "cd872341",
   "metadata": {},
   "outputs": [
    {
     "name": "stdout",
     "output_type": "stream",
     "text": [
      "['USA', 'UK', 'India', 'BAN']\n"
     ]
    }
   ],
   "source": [
    "print(mylist[1:])"
   ]
  },
  {
   "cell_type": "markdown",
   "id": "5e2d1237",
   "metadata": {},
   "source": [
    "# Check if items exists"
   ]
  },
  {
   "cell_type": "code",
   "execution_count": 22,
   "id": "59903d48",
   "metadata": {},
   "outputs": [
    {
     "name": "stdout",
     "output_type": "stream",
     "text": [
      "Yes It's found\n"
     ]
    }
   ],
   "source": [
    "if \"UK\" in mylist:\n",
    "    print(\"Yes It's found\")"
   ]
  },
  {
   "cell_type": "code",
   "execution_count": 34,
   "id": "1fc93cf2",
   "metadata": {},
   "outputs": [
    {
     "data": {
      "text/plain": [
       "['Banana', 'Apple', 'Orange', 'Apple']"
      ]
     },
     "execution_count": 34,
     "metadata": {},
     "output_type": "execute_result"
    }
   ],
   "source": [
    "fruits = [\"Banana\",\"Apple\",\"Orange\",\"Apple\"]\n",
    "fruits"
   ]
  },
  {
   "cell_type": "code",
   "execution_count": 35,
   "id": "22a6a37a",
   "metadata": {},
   "outputs": [],
   "source": [
    "fruits[0]=\"Grapes\""
   ]
  },
  {
   "cell_type": "code",
   "execution_count": 36,
   "id": "63e1fbda",
   "metadata": {},
   "outputs": [
    {
     "data": {
      "text/plain": [
       "['Grapes', 'Apple', 'Orange', 'Apple']"
      ]
     },
     "execution_count": 36,
     "metadata": {},
     "output_type": "execute_result"
    }
   ],
   "source": [
    "fruits"
   ]
  },
  {
   "cell_type": "code",
   "execution_count": null,
   "id": "91a8f28c",
   "metadata": {},
   "outputs": [],
   "source": []
  },
  {
   "cell_type": "code",
   "execution_count": 32,
   "id": "35506632",
   "metadata": {},
   "outputs": [
    {
     "name": "stdout",
     "output_type": "stream",
     "text": [
      "['Grapes', 'Grapes', 'Orange', 'Apple']\n"
     ]
    }
   ],
   "source": [
    "fruits[1]=\"Grapes\"\n",
    "print(fruits)"
   ]
  },
  {
   "cell_type": "code",
   "execution_count": 33,
   "id": "760533af",
   "metadata": {},
   "outputs": [
    {
     "data": {
      "text/plain": [
       "['Grapes', 'Grapes', 'Orange', 'Apple']"
      ]
     },
     "execution_count": 33,
     "metadata": {},
     "output_type": "execute_result"
    }
   ],
   "source": [
    "fruits"
   ]
  },
  {
   "cell_type": "markdown",
   "id": "a3e34c9f",
   "metadata": {},
   "source": [
    "# Task 3: Change object values from a range \"Mango\""
   ]
  },
  {
   "cell_type": "code",
   "execution_count": 37,
   "id": "3774212e",
   "metadata": {},
   "outputs": [
    {
     "data": {
      "text/plain": [
       "['Grapes', 'Apple', 'Orange', 'Apple']"
      ]
     },
     "execution_count": 37,
     "metadata": {},
     "output_type": "execute_result"
    }
   ],
   "source": [
    "fruits"
   ]
  },
  {
   "cell_type": "markdown",
   "id": "4ae22375",
   "metadata": {},
   "source": [
    "# Append new Item"
   ]
  },
  {
   "cell_type": "code",
   "execution_count": 38,
   "id": "4ca71e30",
   "metadata": {},
   "outputs": [],
   "source": [
    "fruits.append(\"Strawberry\")"
   ]
  },
  {
   "cell_type": "code",
   "execution_count": 39,
   "id": "76691211",
   "metadata": {},
   "outputs": [
    {
     "data": {
      "text/plain": [
       "['Grapes', 'Apple', 'Orange', 'Apple', 'Strawberry']"
      ]
     },
     "execution_count": 39,
     "metadata": {},
     "output_type": "execute_result"
    }
   ],
   "source": [
    "fruits"
   ]
  },
  {
   "cell_type": "markdown",
   "id": "0080a88c",
   "metadata": {},
   "source": [
    "# Insert new Item"
   ]
  },
  {
   "cell_type": "code",
   "execution_count": 41,
   "id": "ddb65a99",
   "metadata": {},
   "outputs": [],
   "source": [
    "fruits.insert(2,\"Guava\")"
   ]
  },
  {
   "cell_type": "code",
   "execution_count": 42,
   "id": "2fd958ea",
   "metadata": {
    "scrolled": true
   },
   "outputs": [
    {
     "data": {
      "text/plain": [
       "['Grapes', 'Apple', 'Guava', 'Orange', 'Apple', 'Strawberry']"
      ]
     },
     "execution_count": 42,
     "metadata": {},
     "output_type": "execute_result"
    }
   ],
   "source": [
    "fruits"
   ]
  },
  {
   "cell_type": "markdown",
   "id": "bafca52c",
   "metadata": {},
   "source": [
    "# Task 4: Create a list of 10 objects and insert item on 8th place"
   ]
  },
  {
   "cell_type": "code",
   "execution_count": null,
   "id": "952fa829",
   "metadata": {},
   "outputs": [],
   "source": []
  },
  {
   "cell_type": "code",
   "execution_count": null,
   "id": "2e59af3f",
   "metadata": {},
   "outputs": [],
   "source": []
  },
  {
   "cell_type": "code",
   "execution_count": null,
   "id": "67ffc45c",
   "metadata": {},
   "outputs": [],
   "source": []
  }
 ],
 "metadata": {
  "kernelspec": {
   "display_name": "Python 3 (ipykernel)",
   "language": "python",
   "name": "python3"
  },
  "language_info": {
   "codemirror_mode": {
    "name": "ipython",
    "version": 3
   },
   "file_extension": ".py",
   "mimetype": "text/x-python",
   "name": "python",
   "nbconvert_exporter": "python",
   "pygments_lexer": "ipython3",
   "version": "3.9.13"
  }
 },
 "nbformat": 4,
 "nbformat_minor": 5
}
