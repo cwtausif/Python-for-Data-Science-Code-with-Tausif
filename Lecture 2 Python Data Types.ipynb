{
 "cells": [
  {
   "cell_type": "markdown",
   "id": "fcff5b99",
   "metadata": {},
   "source": [
    "# Variable Types in Python for Data Science"
   ]
  },
  {
   "cell_type": "markdown",
   "id": "a6699888",
   "metadata": {},
   "source": [
    "# Int"
   ]
  },
  {
   "cell_type": "code",
   "execution_count": 3,
   "id": "d8d55cb7",
   "metadata": {},
   "outputs": [
    {
     "data": {
      "text/plain": [
       "-10"
      ]
     },
     "execution_count": 3,
     "metadata": {},
     "output_type": "execute_result"
    }
   ],
   "source": [
    "a = -10\n",
    "a"
   ]
  },
  {
   "cell_type": "markdown",
   "id": "5b58194e",
   "metadata": {},
   "source": [
    "# Float"
   ]
  },
  {
   "cell_type": "code",
   "execution_count": 5,
   "id": "d7878377",
   "metadata": {},
   "outputs": [
    {
     "data": {
      "text/plain": [
       "76.77"
      ]
     },
     "execution_count": 5,
     "metadata": {},
     "output_type": "execute_result"
    }
   ],
   "source": [
    "avg = 76.77\n",
    "avg"
   ]
  },
  {
   "cell_type": "markdown",
   "id": "f78d0c06",
   "metadata": {},
   "source": [
    "# Complex Numbers"
   ]
  },
  {
   "cell_type": "code",
   "execution_count": 6,
   "id": "d0b7f6ca",
   "metadata": {},
   "outputs": [
    {
     "data": {
      "text/plain": [
       "1j"
      ]
     },
     "execution_count": 6,
     "metadata": {},
     "output_type": "execute_result"
    }
   ],
   "source": [
    "x = 1j\n",
    "x"
   ]
  },
  {
   "cell_type": "code",
   "execution_count": 14,
   "id": "d91a7d70",
   "metadata": {},
   "outputs": [
    {
     "name": "stdout",
     "output_type": "stream",
     "text": [
      "74\n"
     ]
    }
   ],
   "source": [
    "import random\n",
    "print(random.randrange(0,100))"
   ]
  },
  {
   "cell_type": "markdown",
   "id": "6740a428",
   "metadata": {},
   "source": [
    "# Strings"
   ]
  },
  {
   "cell_type": "code",
   "execution_count": 16,
   "id": "624028c6",
   "metadata": {},
   "outputs": [
    {
     "data": {
      "text/plain": [
       "'Code With Tausif'"
      ]
     },
     "execution_count": 16,
     "metadata": {},
     "output_type": "execute_result"
    }
   ],
   "source": [
    "name = \"Code With Tausif\"\n",
    "name"
   ]
  },
  {
   "cell_type": "markdown",
   "id": "7987e946",
   "metadata": {},
   "source": [
    "# Strings as Array"
   ]
  },
  {
   "cell_type": "code",
   "execution_count": 19,
   "id": "ca1465b9",
   "metadata": {},
   "outputs": [
    {
     "data": {
      "text/plain": [
       "'C'"
      ]
     },
     "execution_count": 19,
     "metadata": {},
     "output_type": "execute_result"
    }
   ],
   "source": [
    "name[0]"
   ]
  },
  {
   "cell_type": "code",
   "execution_count": 22,
   "id": "c6614773",
   "metadata": {},
   "outputs": [
    {
     "name": "stdout",
     "output_type": "stream",
     "text": [
      "C\n",
      "o\n",
      "d\n",
      "e\n",
      " \n",
      "W\n",
      "i\n",
      "t\n",
      "h\n",
      " \n",
      "T\n",
      "a\n",
      "u\n",
      "s\n",
      "i\n",
      "f\n"
     ]
    }
   ],
   "source": [
    "for ch in name:\n",
    "    print(ch)"
   ]
  },
  {
   "cell_type": "markdown",
   "id": "ca401229",
   "metadata": {},
   "source": [
    "# Strings Length"
   ]
  },
  {
   "cell_type": "code",
   "execution_count": 23,
   "id": "4dc53a03",
   "metadata": {},
   "outputs": [
    {
     "data": {
      "text/plain": [
       "16"
      ]
     },
     "execution_count": 23,
     "metadata": {},
     "output_type": "execute_result"
    }
   ],
   "source": [
    "len(name)"
   ]
  },
  {
   "cell_type": "code",
   "execution_count": 26,
   "id": "4579ac1c",
   "metadata": {},
   "outputs": [
    {
     "data": {
      "text/plain": [
       "True"
      ]
     },
     "execution_count": 26,
     "metadata": {},
     "output_type": "execute_result"
    }
   ],
   "source": [
    "\"Tausif\" in name"
   ]
  },
  {
   "cell_type": "code",
   "execution_count": 27,
   "id": "744c3ce8",
   "metadata": {},
   "outputs": [
    {
     "data": {
      "text/plain": [
       "'CODE WITH TAUSIF'"
      ]
     },
     "execution_count": 27,
     "metadata": {},
     "output_type": "execute_result"
    }
   ],
   "source": [
    "# Upper case\n",
    "name.upper()"
   ]
  },
  {
   "cell_type": "code",
   "execution_count": 28,
   "id": "fbf5f9d2",
   "metadata": {},
   "outputs": [
    {
     "data": {
      "text/plain": [
       "'code with tausif'"
      ]
     },
     "execution_count": 28,
     "metadata": {},
     "output_type": "execute_result"
    }
   ],
   "source": [
    "# lower case\n",
    "name.lower()"
   ]
  },
  {
   "cell_type": "code",
   "execution_count": 31,
   "id": "15f07b69",
   "metadata": {},
   "outputs": [
    {
     "data": {
      "text/plain": [
       "'USA'"
      ]
     },
     "execution_count": 31,
     "metadata": {},
     "output_type": "execute_result"
    }
   ],
   "source": [
    "# Remove Spaces\n",
    "country = \" USA \"\n",
    "country.strip()"
   ]
  },
  {
   "cell_type": "markdown",
   "id": "399f2214",
   "metadata": {},
   "source": [
    "# Task 1"
   ]
  },
  {
   "cell_type": "code",
   "execution_count": null,
   "id": "f9d219a6",
   "metadata": {},
   "outputs": [],
   "source": [
    "# replace\n",
    "# split\n",
    "# concatination\n",
    "# concatination with spaces"
   ]
  },
  {
   "cell_type": "markdown",
   "id": "46cf563a",
   "metadata": {},
   "source": [
    "# Conversion"
   ]
  },
  {
   "cell_type": "code",
   "execution_count": 33,
   "id": "d21491b3",
   "metadata": {},
   "outputs": [
    {
     "data": {
      "text/plain": [
       "1"
      ]
     },
     "execution_count": 33,
     "metadata": {},
     "output_type": "execute_result"
    }
   ],
   "source": [
    "x = 1 #int\n",
    "x"
   ]
  },
  {
   "cell_type": "code",
   "execution_count": 36,
   "id": "465224f7",
   "metadata": {},
   "outputs": [
    {
     "data": {
      "text/plain": [
       "1.0"
      ]
     },
     "execution_count": 36,
     "metadata": {},
     "output_type": "execute_result"
    }
   ],
   "source": [
    "# Convert int to float\n",
    "m = float(x)\n",
    "m"
   ]
  },
  {
   "cell_type": "code",
   "execution_count": 34,
   "id": "66e6a313",
   "metadata": {},
   "outputs": [
    {
     "data": {
      "text/plain": [
       "int"
      ]
     },
     "execution_count": 34,
     "metadata": {},
     "output_type": "execute_result"
    }
   ],
   "source": [
    "type(x)"
   ]
  },
  {
   "cell_type": "code",
   "execution_count": 35,
   "id": "b11a16e6",
   "metadata": {},
   "outputs": [
    {
     "data": {
      "text/plain": [
       "str"
      ]
     },
     "execution_count": 35,
     "metadata": {},
     "output_type": "execute_result"
    }
   ],
   "source": [
    "type(name)"
   ]
  },
  {
   "cell_type": "code",
   "execution_count": 38,
   "id": "dec542b0",
   "metadata": {},
   "outputs": [
    {
     "data": {
      "text/plain": [
       "5"
      ]
     },
     "execution_count": 38,
     "metadata": {},
     "output_type": "execute_result"
    }
   ],
   "source": [
    "# Convert float to int\n",
    "size = 5.6\n",
    "s = int(size)\n",
    "s"
   ]
  },
  {
   "cell_type": "markdown",
   "id": "7a69bf38",
   "metadata": {},
   "source": [
    "# Task 2"
   ]
  },
  {
   "cell_type": "code",
   "execution_count": null,
   "id": "ab940cc7",
   "metadata": {},
   "outputs": [],
   "source": [
    "# int to complex\n",
    "# string to int\n",
    "# int to string"
   ]
  },
  {
   "cell_type": "code",
   "execution_count": null,
   "id": "1a0a59bf",
   "metadata": {},
   "outputs": [],
   "source": []
  },
  {
   "cell_type": "code",
   "execution_count": null,
   "id": "a19ae1a5",
   "metadata": {},
   "outputs": [],
   "source": []
  },
  {
   "cell_type": "code",
   "execution_count": null,
   "id": "d9d7af64",
   "metadata": {},
   "outputs": [],
   "source": []
  },
  {
   "cell_type": "code",
   "execution_count": null,
   "id": "4689e7e5",
   "metadata": {},
   "outputs": [],
   "source": []
  },
  {
   "cell_type": "code",
   "execution_count": null,
   "id": "b9c81bf5",
   "metadata": {},
   "outputs": [],
   "source": []
  },
  {
   "cell_type": "code",
   "execution_count": null,
   "id": "5ed86cd6",
   "metadata": {},
   "outputs": [],
   "source": []
  }
 ],
 "metadata": {
  "kernelspec": {
   "display_name": "Python 3 (ipykernel)",
   "language": "python",
   "name": "python3"
  },
  "language_info": {
   "codemirror_mode": {
    "name": "ipython",
    "version": 3
   },
   "file_extension": ".py",
   "mimetype": "text/x-python",
   "name": "python",
   "nbconvert_exporter": "python",
   "pygments_lexer": "ipython3",
   "version": "3.9.13"
  }
 },
 "nbformat": 4,
 "nbformat_minor": 5
}
